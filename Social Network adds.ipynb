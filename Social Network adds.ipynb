{
 "cells": [
  {
   "cell_type": "code",
   "execution_count": 265,
   "id": "e181b29f",
   "metadata": {
    "scrolled": true
   },
   "outputs": [],
   "source": [
    "import pandas as pd\n",
    "import numpy as np\n",
    "import seaborn as sns\n",
    "import statsmodels\n",
    "import statsmodels.api as sm\n",
    "from sklearn.linear_model import LogisticRegression\n",
    "from sklearn.model_selection import train_test_split\n",
    "from sklearn.preprocessing import StandardScaler,MinMaxScaler,OrdinalEncoder\n",
    "from sklearn.feature_selection import RFE\n",
    "\n",
    "import warnings\n",
    "warnings.filterwarnings('ignore')"
   ]
  },
  {
   "cell_type": "markdown",
   "id": "7b4ea83d",
   "metadata": {},
   "source": [
    "# Data preprocessing"
   ]
  },
  {
   "cell_type": "code",
   "execution_count": 201,
   "id": "ea9688e2",
   "metadata": {},
   "outputs": [
    {
     "data": {
      "text/html": [
       "<div>\n",
       "<style scoped>\n",
       "    .dataframe tbody tr th:only-of-type {\n",
       "        vertical-align: middle;\n",
       "    }\n",
       "\n",
       "    .dataframe tbody tr th {\n",
       "        vertical-align: top;\n",
       "    }\n",
       "\n",
       "    .dataframe thead th {\n",
       "        text-align: right;\n",
       "    }\n",
       "</style>\n",
       "<table border=\"1\" class=\"dataframe\">\n",
       "  <thead>\n",
       "    <tr style=\"text-align: right;\">\n",
       "      <th></th>\n",
       "      <th>User ID</th>\n",
       "      <th>Gender</th>\n",
       "      <th>Age</th>\n",
       "      <th>EstimatedSalary</th>\n",
       "      <th>Purchased</th>\n",
       "    </tr>\n",
       "  </thead>\n",
       "  <tbody>\n",
       "    <tr>\n",
       "      <th>0</th>\n",
       "      <td>15624510</td>\n",
       "      <td>Male</td>\n",
       "      <td>19</td>\n",
       "      <td>19000</td>\n",
       "      <td>0</td>\n",
       "    </tr>\n",
       "    <tr>\n",
       "      <th>1</th>\n",
       "      <td>15810944</td>\n",
       "      <td>Male</td>\n",
       "      <td>35</td>\n",
       "      <td>20000</td>\n",
       "      <td>0</td>\n",
       "    </tr>\n",
       "    <tr>\n",
       "      <th>2</th>\n",
       "      <td>15668575</td>\n",
       "      <td>Female</td>\n",
       "      <td>26</td>\n",
       "      <td>43000</td>\n",
       "      <td>0</td>\n",
       "    </tr>\n",
       "    <tr>\n",
       "      <th>3</th>\n",
       "      <td>15603246</td>\n",
       "      <td>Female</td>\n",
       "      <td>27</td>\n",
       "      <td>57000</td>\n",
       "      <td>0</td>\n",
       "    </tr>\n",
       "    <tr>\n",
       "      <th>4</th>\n",
       "      <td>15804002</td>\n",
       "      <td>Male</td>\n",
       "      <td>19</td>\n",
       "      <td>76000</td>\n",
       "      <td>0</td>\n",
       "    </tr>\n",
       "  </tbody>\n",
       "</table>\n",
       "</div>"
      ],
      "text/plain": [
       "    User ID  Gender  Age  EstimatedSalary  Purchased\n",
       "0  15624510    Male   19            19000          0\n",
       "1  15810944    Male   35            20000          0\n",
       "2  15668575  Female   26            43000          0\n",
       "3  15603246  Female   27            57000          0\n",
       "4  15804002    Male   19            76000          0"
      ]
     },
     "execution_count": 201,
     "metadata": {},
     "output_type": "execute_result"
    }
   ],
   "source": [
    "df = pd.read_csv('Social_Network_Ads.csv')\n",
    "df.head()"
   ]
  },
  {
   "cell_type": "code",
   "execution_count": 202,
   "id": "2d2c6d68",
   "metadata": {},
   "outputs": [
    {
     "name": "stdout",
     "output_type": "stream",
     "text": [
      "<class 'pandas.core.frame.DataFrame'>\n",
      "RangeIndex: 400 entries, 0 to 399\n",
      "Data columns (total 5 columns):\n",
      " #   Column           Non-Null Count  Dtype \n",
      "---  ------           --------------  ----- \n",
      " 0   User ID          400 non-null    int64 \n",
      " 1   Gender           400 non-null    object\n",
      " 2   Age              400 non-null    int64 \n",
      " 3   EstimatedSalary  400 non-null    int64 \n",
      " 4   Purchased        400 non-null    int64 \n",
      "dtypes: int64(4), object(1)\n",
      "memory usage: 15.8+ KB\n"
     ]
    }
   ],
   "source": [
    "df.info()"
   ]
  },
  {
   "cell_type": "code",
   "execution_count": 203,
   "id": "59c61843",
   "metadata": {},
   "outputs": [
    {
     "data": {
      "text/plain": [
       "User ID            0\n",
       "Gender             0\n",
       "Age                0\n",
       "EstimatedSalary    0\n",
       "Purchased          0\n",
       "dtype: int64"
      ]
     },
     "execution_count": 203,
     "metadata": {},
     "output_type": "execute_result"
    }
   ],
   "source": [
    "df.isnull().sum()"
   ]
  },
  {
   "cell_type": "code",
   "execution_count": 204,
   "id": "ba09f305",
   "metadata": {},
   "outputs": [],
   "source": [
    "##EDA"
   ]
  },
  {
   "cell_type": "code",
   "execution_count": 205,
   "id": "90ba2d15",
   "metadata": {},
   "outputs": [],
   "source": [
    "import mitosheet"
   ]
  },
  {
   "cell_type": "code",
   "execution_count": 206,
   "id": "8d7d9f40",
   "metadata": {},
   "outputs": [
    {
     "data": {
      "application/vnd.jupyter.widget-view+json": {
       "model_id": "69dbbce90ade463cbcc61a7b73e42d45",
       "version_major": 2,
       "version_minor": 0
      },
      "text/plain": [
       "MitoWidget(analysis_data_json='{\"analysisName\": \"id-fpijvvlcpe\", \"analysisToReplay\": {\"analysisName\": \"id-btem…"
      ]
     },
     "metadata": {},
     "output_type": "display_data"
    }
   ],
   "source": [
    "mitosheet.sheet(analysis_to_replay=\"id-btemswixzz\")"
   ]
  },
  {
   "cell_type": "code",
   "execution_count": 207,
   "id": "b970a5ee",
   "metadata": {},
   "outputs": [],
   "source": [
    "from mitosheet import *; register_analysis(\"id-btemswixzz\");\n",
    "    \n",
    "# Imported Social_Network_Ads.csv\n",
    "import pandas as pd\n",
    "Social_Network_Ads = pd.read_csv(r'Social_Network_Ads.csv')\n"
   ]
  },
  {
   "cell_type": "code",
   "execution_count": 208,
   "id": "ec5c7bc3",
   "metadata": {},
   "outputs": [
    {
     "data": {
      "text/html": [
       "<iframe\n",
       "    scrolling=\"no\"\n",
       "    width=\"100%\"\n",
       "    height=\"545px\"\n",
       "    src=\"iframe_figures/figure_208.html\"\n",
       "    frameborder=\"0\"\n",
       "    allowfullscreen\n",
       "></iframe>\n"
      ]
     },
     "metadata": {},
     "output_type": "display_data"
    }
   ],
   "source": [
    "import plotly.express as px\n",
    "# Construct the graph and style it. Further customize your graph by editing this code.\n",
    "# See Plotly Documentation for help: https://plotly.com/python/plotly-express/\n",
    "fig = px.bar(Social_Network_Ads, x='Gender', y='Purchased')\n",
    "fig.update_layout(\n",
    "    title='Gender, Purchased bar chart', \n",
    "    xaxis = dict(\n",
    "        showgrid=True, \n",
    "        rangeslider = dict(\n",
    "            visible=True, \n",
    "            thickness=0.05\n",
    "        )\n",
    "    ), \n",
    "    yaxis = dict(\n",
    "        showgrid=True\n",
    "    ), \n",
    "    legend = dict(\n",
    "        orientation='v'\n",
    "    ), \n",
    "    barmode='group', \n",
    "    paper_bgcolor='#FFFFFF'\n",
    ")\n",
    "fig.show(renderer=\"iframe\")"
   ]
  },
  {
   "cell_type": "code",
   "execution_count": 209,
   "id": "f6e714d0",
   "metadata": {
    "scrolled": true
   },
   "outputs": [
    {
     "data": {
      "text/html": [
       "<iframe\n",
       "    scrolling=\"no\"\n",
       "    width=\"100%\"\n",
       "    height=\"545px\"\n",
       "    src=\"iframe_figures/figure_209.html\"\n",
       "    frameborder=\"0\"\n",
       "    allowfullscreen\n",
       "></iframe>\n"
      ]
     },
     "metadata": {},
     "output_type": "display_data"
    }
   ],
   "source": [
    "import plotly.express as px\n",
    "# Construct the graph and style it. Further customize your graph by editing this code.\n",
    "# See Plotly Documentation for help: https://plotly.com/python/plotly-express/\n",
    "fig = px.bar(Social_Network_Ads, x='Gender', y='EstimatedSalary', color='Purchased')\n",
    "fig.update_layout(\n",
    "    title='Gender, EstimatedSalary bar chart', \n",
    "    xaxis = dict(\n",
    "        showgrid=True, \n",
    "        rangeslider = dict(\n",
    "            visible=True, \n",
    "            thickness=0.05\n",
    "        )\n",
    "    ), \n",
    "    yaxis = dict(\n",
    "        showgrid=True\n",
    "    ), \n",
    "    legend = dict(\n",
    "        orientation='v'\n",
    "    ), \n",
    "    barmode='overlay', \n",
    "    paper_bgcolor='#FFFFFF'\n",
    ")\n",
    "fig.show(renderer=\"iframe\")"
   ]
  },
  {
   "cell_type": "code",
   "execution_count": 210,
   "id": "da7f18f1",
   "metadata": {},
   "outputs": [],
   "source": [
    "import matplotlib.pyplot as plt"
   ]
  },
  {
   "cell_type": "code",
   "execution_count": 211,
   "id": "b9459a14",
   "metadata": {},
   "outputs": [
    {
     "data": {
      "image/png": "[encoded data removed]",
      "text/plain": [
       "<Figure size 1440x720 with 4 Axes>"
      ]
     },
     "metadata": {
      "needs_background": "light"
     },
     "output_type": "display_data"
    }
   ],
   "source": [
    "n = 1\n",
    "plt.figure(figsize=(20,10))\n",
    "for i in df.describe(include = 'number').columns:\n",
    "    plt.subplot(2,4,n)\n",
    "    n+=1\n",
    "    sns.boxplot(df[i])"
   ]
  },
  {
   "cell_type": "code",
   "execution_count": 212,
   "id": "1aef7bd3",
   "metadata": {
    "scrolled": true
   },
   "outputs": [
    {
     "data": {
      "text/plain": [
       "<AxesSubplot:xlabel='Purchased', ylabel='count'>"
      ]
     },
     "execution_count": 212,
     "metadata": {},
     "output_type": "execute_result"
    },
    {
     "data": {
      "image/png": "[encoded data removed]",
      "text/plain": [
       "<Figure size 432x288 with 1 Axes>"
      ]
     },
     "metadata": {
      "needs_background": "light"
     },
     "output_type": "display_data"
    }
   ],
   "source": [
    "sns.countplot(df.Purchased)"
   ]
  },
  {
   "cell_type": "code",
   "execution_count": 213,
   "id": "18c9e8e3",
   "metadata": {},
   "outputs": [
    {
     "name": "stdout",
     "output_type": "stream",
     "text": [
      "<class 'pandas.core.frame.DataFrame'>\n",
      "RangeIndex: 400 entries, 0 to 399\n",
      "Data columns (total 5 columns):\n",
      " #   Column           Non-Null Count  Dtype \n",
      "---  ------           --------------  ----- \n",
      " 0   User ID          400 non-null    int64 \n",
      " 1   Gender           400 non-null    object\n",
      " 2   Age              400 non-null    int64 \n",
      " 3   EstimatedSalary  400 non-null    int64 \n",
      " 4   Purchased        400 non-null    int64 \n",
      "dtypes: int64(4), object(1)\n",
      "memory usage: 15.8+ KB\n"
     ]
    }
   ],
   "source": [
    "df.info()"
   ]
  },
  {
   "cell_type": "code",
   "execution_count": 214,
   "id": "7c942a9c",
   "metadata": {},
   "outputs": [],
   "source": [
    "n = OrdinalEncoder()"
   ]
  },
  {
   "cell_type": "code",
   "execution_count": 215,
   "id": "d984a037",
   "metadata": {},
   "outputs": [],
   "source": [
    "df['Gender']=n.fit_transform(df['Gender'].array.reshape(-1, 1))"
   ]
  },
  {
   "cell_type": "code",
   "execution_count": 216,
   "id": "a11df6f3",
   "metadata": {},
   "outputs": [],
   "source": [
    "#modelling"
   ]
  },
  {
   "cell_type": "code",
   "execution_count": 217,
   "id": "c67ce0f1",
   "metadata": {},
   "outputs": [
    {
     "name": "stdout",
     "output_type": "stream",
     "text": [
      "<class 'pandas.core.frame.DataFrame'>\n",
      "RangeIndex: 400 entries, 0 to 399\n",
      "Data columns (total 5 columns):\n",
      " #   Column           Non-Null Count  Dtype  \n",
      "---  ------           --------------  -----  \n",
      " 0   User ID          400 non-null    int64  \n",
      " 1   Gender           400 non-null    float64\n",
      " 2   Age              400 non-null    int64  \n",
      " 3   EstimatedSalary  400 non-null    int64  \n",
      " 4   Purchased        400 non-null    int64  \n",
      "dtypes: float64(1), int64(4)\n",
      "memory usage: 15.8 KB\n"
     ]
    }
   ],
   "source": [
    "df.info()"
   ]
  },
  {
   "cell_type": "code",
   "execution_count": 218,
   "id": "c72ebca4",
   "metadata": {},
   "outputs": [],
   "source": [
    "df1 = df.copy()"
   ]
  },
  {
   "cell_type": "code",
   "execution_count": 219,
   "id": "c564d871",
   "metadata": {},
   "outputs": [],
   "source": [
    "df1.drop(columns = 'User ID',axis = 1,inplace = True)"
   ]
  },
  {
   "cell_type": "code",
   "execution_count": 220,
   "id": "bba2d239",
   "metadata": {},
   "outputs": [
    {
     "data": {
      "text/html": [
       "<div>\n",
       "<style scoped>\n",
       "    .dataframe tbody tr th:only-of-type {\n",
       "        vertical-align: middle;\n",
       "    }\n",
       "\n",
       "    .dataframe tbody tr th {\n",
       "        vertical-align: top;\n",
       "    }\n",
       "\n",
       "    .dataframe thead th {\n",
       "        text-align: right;\n",
       "    }\n",
       "</style>\n",
       "<table border=\"1\" class=\"dataframe\">\n",
       "  <thead>\n",
       "    <tr style=\"text-align: right;\">\n",
       "      <th></th>\n",
       "      <th>Gender</th>\n",
       "      <th>Age</th>\n",
       "      <th>EstimatedSalary</th>\n",
       "      <th>Purchased</th>\n",
       "    </tr>\n",
       "  </thead>\n",
       "  <tbody>\n",
       "    <tr>\n",
       "      <th>0</th>\n",
       "      <td>1.0</td>\n",
       "      <td>19</td>\n",
       "      <td>19000</td>\n",
       "      <td>0</td>\n",
       "    </tr>\n",
       "    <tr>\n",
       "      <th>1</th>\n",
       "      <td>1.0</td>\n",
       "      <td>35</td>\n",
       "      <td>20000</td>\n",
       "      <td>0</td>\n",
       "    </tr>\n",
       "    <tr>\n",
       "      <th>2</th>\n",
       "      <td>0.0</td>\n",
       "      <td>26</td>\n",
       "      <td>43000</td>\n",
       "      <td>0</td>\n",
       "    </tr>\n",
       "    <tr>\n",
       "      <th>3</th>\n",
       "      <td>0.0</td>\n",
       "      <td>27</td>\n",
       "      <td>57000</td>\n",
       "      <td>0</td>\n",
       "    </tr>\n",
       "    <tr>\n",
       "      <th>4</th>\n",
       "      <td>1.0</td>\n",
       "      <td>19</td>\n",
       "      <td>76000</td>\n",
       "      <td>0</td>\n",
       "    </tr>\n",
       "  </tbody>\n",
       "</table>\n",
       "</div>"
      ],
      "text/plain": [
       "   Gender  Age  EstimatedSalary  Purchased\n",
       "0     1.0   19            19000          0\n",
       "1     1.0   35            20000          0\n",
       "2     0.0   26            43000          0\n",
       "3     0.0   27            57000          0\n",
       "4     1.0   19            76000          0"
      ]
     },
     "execution_count": 220,
     "metadata": {},
     "output_type": "execute_result"
    }
   ],
   "source": [
    "df1.head()"
   ]
  },
  {
   "cell_type": "code",
   "execution_count": 221,
   "id": "84183c7c",
   "metadata": {},
   "outputs": [],
   "source": [
    "ss = StandardScaler()"
   ]
  },
  {
   "cell_type": "code",
   "execution_count": 222,
   "id": "d7291a5a",
   "metadata": {},
   "outputs": [],
   "source": [
    "df1[['Age','EstimatedSalary']]=ss.fit_transform(df1[['Age','EstimatedSalary']])"
   ]
  },
  {
   "cell_type": "code",
   "execution_count": 223,
   "id": "94d7fb56",
   "metadata": {
    "scrolled": true
   },
   "outputs": [
    {
     "data": {
      "text/html": [
       "<div>\n",
       "<style scoped>\n",
       "    .dataframe tbody tr th:only-of-type {\n",
       "        vertical-align: middle;\n",
       "    }\n",
       "\n",
       "    .dataframe tbody tr th {\n",
       "        vertical-align: top;\n",
       "    }\n",
       "\n",
       "    .dataframe thead th {\n",
       "        text-align: right;\n",
       "    }\n",
       "</style>\n",
       "<table border=\"1\" class=\"dataframe\">\n",
       "  <thead>\n",
       "    <tr style=\"text-align: right;\">\n",
       "      <th></th>\n",
       "      <th>Gender</th>\n",
       "      <th>Age</th>\n",
       "      <th>EstimatedSalary</th>\n",
       "      <th>Purchased</th>\n",
       "    </tr>\n",
       "  </thead>\n",
       "  <tbody>\n",
       "    <tr>\n",
       "      <th>0</th>\n",
       "      <td>1.0</td>\n",
       "      <td>-1.781797</td>\n",
       "      <td>-1.490046</td>\n",
       "      <td>0</td>\n",
       "    </tr>\n",
       "    <tr>\n",
       "      <th>1</th>\n",
       "      <td>1.0</td>\n",
       "      <td>-0.253587</td>\n",
       "      <td>-1.460681</td>\n",
       "      <td>0</td>\n",
       "    </tr>\n",
       "    <tr>\n",
       "      <th>2</th>\n",
       "      <td>0.0</td>\n",
       "      <td>-1.113206</td>\n",
       "      <td>-0.785290</td>\n",
       "      <td>0</td>\n",
       "    </tr>\n",
       "    <tr>\n",
       "      <th>3</th>\n",
       "      <td>0.0</td>\n",
       "      <td>-1.017692</td>\n",
       "      <td>-0.374182</td>\n",
       "      <td>0</td>\n",
       "    </tr>\n",
       "    <tr>\n",
       "      <th>4</th>\n",
       "      <td>1.0</td>\n",
       "      <td>-1.781797</td>\n",
       "      <td>0.183751</td>\n",
       "      <td>0</td>\n",
       "    </tr>\n",
       "  </tbody>\n",
       "</table>\n",
       "</div>"
      ],
      "text/plain": [
       "   Gender       Age  EstimatedSalary  Purchased\n",
       "0     1.0 -1.781797        -1.490046          0\n",
       "1     1.0 -0.253587        -1.460681          0\n",
       "2     0.0 -1.113206        -0.785290          0\n",
       "3     0.0 -1.017692        -0.374182          0\n",
       "4     1.0 -1.781797         0.183751          0"
      ]
     },
     "execution_count": 223,
     "metadata": {},
     "output_type": "execute_result"
    }
   ],
   "source": [
    "df1.head()"
   ]
  },
  {
   "cell_type": "code",
   "execution_count": 224,
   "id": "009b2988",
   "metadata": {},
   "outputs": [],
   "source": [
    "df1 = sm.add_constant(df1)"
   ]
  },
  {
   "cell_type": "code",
   "execution_count": null,
   "id": "8bd1c40e",
   "metadata": {},
   "outputs": [],
   "source": []
  },
  {
   "cell_type": "code",
   "execution_count": 225,
   "id": "f8924827",
   "metadata": {
    "scrolled": true
   },
   "outputs": [
    {
     "name": "stdout",
     "output_type": "stream",
     "text": [
      "(280, 4)\n",
      "(120, 4)\n",
      "(280,)\n",
      "(120,)\n"
     ]
    }
   ],
   "source": [
    "x_train,x_test,y_train,y_test = train_test_split(df1[['const','Gender','Age','EstimatedSalary']],df1['Purchased'],random_state=10,test_size=0.3)\n",
    "print(x_train.shape)\n",
    "print(x_test.shape)\n",
    "print(y_train.shape)\n",
    "print(y_test.shape)"
   ]
  },
  {
   "cell_type": "code",
   "execution_count": 226,
   "id": "432433ca",
   "metadata": {},
   "outputs": [
    {
     "name": "stdout",
     "output_type": "stream",
     "text": [
      "Optimization terminated successfully.\n",
      "         Current function value: 0.350199\n",
      "         Iterations 8\n",
      "                           Logit Regression Results                           \n",
      "==============================================================================\n",
      "Dep. Variable:              Purchased   No. Observations:                  280\n",
      "Model:                          Logit   Df Residuals:                      276\n",
      "Method:                           MLE   Df Model:                            3\n",
      "Date:                Mon, 15 Aug 2022   Pseudo R-squ.:                  0.4721\n",
      "Time:                        13:25:15   Log-Likelihood:                -98.056\n",
      "converged:                       True   LL-Null:                       -185.74\n",
      "Covariance Type:            nonrobust   LLR p-value:                 8.813e-38\n",
      "===================================================================================\n",
      "                      coef    std err          z      P>|z|      [0.025      0.975]\n",
      "-----------------------------------------------------------------------------------\n",
      "const              -1.1341      0.270     -4.193      0.000      -1.664      -0.604\n",
      "Gender              0.2302      0.357      0.644      0.519      -0.470       0.930\n",
      "Age                 2.5634      0.348      7.376      0.000       1.882       3.245\n",
      "EstimatedSalary     1.2789      0.226      5.655      0.000       0.836       1.722\n",
      "===================================================================================\n"
     ]
    }
   ],
   "source": [
    "log_regf = sm.Logit(y_train,x_train).fit()\n",
    "print(log_regf.summary())"
   ]
  },
  {
   "cell_type": "code",
   "execution_count": 227,
   "id": "48c61336",
   "metadata": {},
   "outputs": [
    {
     "data": {
      "text/plain": [
       "332    0.495445\n",
       "111    0.223171\n",
       "352    0.666077\n",
       "205    0.574397\n",
       "56     0.003916\n",
       "         ...   \n",
       "17     0.321178\n",
       "225    0.155368\n",
       "223    0.996916\n",
       "59     0.322145\n",
       "114    0.633002\n",
       "Length: 120, dtype: float64"
      ]
     },
     "execution_count": 227,
     "metadata": {},
     "output_type": "execute_result"
    }
   ],
   "source": [
    "y_pred_prob = log_regf.predict(x_test)\n",
    "y_pred_prob"
   ]
  },
  {
   "cell_type": "code",
   "execution_count": 228,
   "id": "12b169a3",
   "metadata": {
    "scrolled": true
   },
   "outputs": [],
   "source": [
    "# n=1\n",
    "# plt.figure(figsize=(20,12))\n",
    "# for i in x_test.columns:\n",
    "#     plt.subplot(3,2,n)\n",
    "#     n+=1\n",
    "#     sns.lineplot(x_test[i],y_pred_prob)"
   ]
  },
  {
   "cell_type": "code",
   "execution_count": 229,
   "id": "80ec8f1d",
   "metadata": {},
   "outputs": [],
   "source": [
    "#In built function "
   ]
  },
  {
   "cell_type": "code",
   "execution_count": 230,
   "id": "5099f5aa",
   "metadata": {},
   "outputs": [],
   "source": [
    "# ll_model = LogisticRegression()\n",
    "# model1 = ll_model.fit(x_train,y_train)"
   ]
  },
  {
   "cell_type": "code",
   "execution_count": 231,
   "id": "1a3bcbbb",
   "metadata": {
    "scrolled": true
   },
   "outputs": [],
   "source": [
    "# y_train_pred = model1.predict(x_train)\n",
    "# y_train_pred"
   ]
  },
  {
   "cell_type": "code",
   "execution_count": 232,
   "id": "76acfad0",
   "metadata": {},
   "outputs": [],
   "source": [
    "# y_test_pred = model1.predict(x_test)\n",
    "# y_test_pred"
   ]
  },
  {
   "cell_type": "code",
   "execution_count": 233,
   "id": "3aa69c8b",
   "metadata": {},
   "outputs": [],
   "source": [
    "# n=1\n",
    "# plt.figure(figsize=(20,12))\n",
    "# for i in x_test.columns:\n",
    "#     plt.subplot(3,2,n)\n",
    "#     n+=1\n",
    "#     sns.lineplot(x_test[i],y_test_pred)"
   ]
  },
  {
   "cell_type": "code",
   "execution_count": 234,
   "id": "db75463f",
   "metadata": {},
   "outputs": [],
   "source": [
    "y_pred = [ 1 if i>0.5 else 0 for i in y_pred_prob]"
   ]
  },
  {
   "cell_type": "code",
   "execution_count": 235,
   "id": "ff0a65ad",
   "metadata": {},
   "outputs": [],
   "source": [
    "from sklearn.metrics import confusion_matrix,classification_report,cohen_kappa_score"
   ]
  },
  {
   "cell_type": "code",
   "execution_count": null,
   "id": "83c8a1f5",
   "metadata": {},
   "outputs": [],
   "source": []
  },
  {
   "cell_type": "code",
   "execution_count": 236,
   "id": "cf9ef36c",
   "metadata": {},
   "outputs": [],
   "source": [
    "ss = classification_report(y_test,y_pred)"
   ]
  },
  {
   "cell_type": "code",
   "execution_count": 237,
   "id": "fb759df4",
   "metadata": {},
   "outputs": [
    {
     "name": "stdout",
     "output_type": "stream",
     "text": [
      "              precision    recall  f1-score   support\n",
      "\n",
      "           0       0.93      0.90      0.91        83\n",
      "           1       0.79      0.84      0.82        37\n",
      "\n",
      "    accuracy                           0.88       120\n",
      "   macro avg       0.86      0.87      0.87       120\n",
      "weighted avg       0.89      0.88      0.88       120\n",
      "\n"
     ]
    }
   ],
   "source": [
    "print(ss)"
   ]
  },
  {
   "cell_type": "code",
   "execution_count": 238,
   "id": "ae4b249d",
   "metadata": {},
   "outputs": [
    {
     "name": "stdout",
     "output_type": "stream",
     "text": [
      "0.7305101058710298\n"
     ]
    }
   ],
   "source": [
    "kappa = cohen_kappa_score(y_test,y_pred)\n",
    "print(kappa)"
   ]
  },
  {
   "cell_type": "code",
   "execution_count": 239,
   "id": "6782834f",
   "metadata": {},
   "outputs": [],
   "source": [
    "from sklearn.metrics import roc_auc_score"
   ]
  },
  {
   "cell_type": "code",
   "execution_count": 240,
   "id": "5822ba0d",
   "metadata": {},
   "outputs": [],
   "source": [
    "from sklearn.metrics import roc_curve"
   ]
  },
  {
   "cell_type": "code",
   "execution_count": 241,
   "id": "17b20ac0",
   "metadata": {
    "scrolled": true
   },
   "outputs": [],
   "source": [
    "# the roc_curve() returns the values for false positive rate, true positive rate and threshold\n",
    "# pass the actual target values and predicted probabilities to the function\n",
    "# #fpr, tpr, thresholds = roc_curve(y_test, y_pred_prob)\n",
    "\n",
    "# # plot the ROC curve\n",
    "# plt.plot(fpr, tpr)\n",
    "\n",
    "# # set limits for x and y axes\n",
    "# plt.xlim([0.0, 1.0])\n",
    "# plt.ylim([0.0, 1.0])\n",
    "\n",
    "# # plot the straight line showing worst prediction for the model\n",
    "# plt.plot([0, 1], [0, 1],'r--')\n",
    "\n",
    "# # add plot and axes labels\n",
    "# # set text size using 'fontsize'\n",
    "# plt.title('ROC curve for Admission Prediction Classifier (Full Model)', fontsize = 15)\n",
    "# plt.xlabel('False positive rate (1-Specificity)', fontsize = 15)\n",
    "# plt.ylabel('True positive rate (Sensitivity)', fontsize = 15)\n",
    "\n",
    "# # add the AUC score to the plot\n",
    "# # 'x' and 'y' gives position of the text\n",
    "# # 's' is the text \n",
    "# # use round() to round-off the AUC score upto 4 digits\n",
    "# plt.text(x = 0.02, y = 0.9, s = ('AUC Score:', round(roc_auc_score(y_test, y_pred_prob),4)))\n",
    "                               \n",
    "# # plot the grid\n",
    "# plt.grid(True)"
   ]
  },
  {
   "cell_type": "code",
   "execution_count": 242,
   "id": "af1fb81d",
   "metadata": {},
   "outputs": [
    {
     "data": {
      "image/png": "[encoded data removed]",
      "text/plain": [
       "<Figure size 432x288 with 1 Axes>"
      ]
     },
     "metadata": {
      "needs_background": "light"
     },
     "output_type": "display_data"
    }
   ],
   "source": [
    "fpr,tpr,thresholds=roc_curve(y_test,y_pred_prob)\n",
    "\n",
    "plt.plot(fpr,tpr)\n",
    "\n",
    "plt.xlim([0.0,1.0])\n",
    "plt.ylim([0.0,1.0])\n",
    "plt.plot([0,1],[0,1],'r--2')\n",
    "\n",
    "plt.title('ROC curve for purchased')\n",
    "plt.xlabel('fpr')\n",
    "plt.ylabel('tpr')\n",
    "\n",
    "plt.text(x=-0.023,y=0.9,s=('AUC_curve',round(roc_auc_score(y_test,y_pred_prob),2)))\n",
    "plt.grid(True)\n",
    "plt.show()"
   ]
  },
  {
   "cell_type": "code",
   "execution_count": 243,
   "id": "e6677913",
   "metadata": {},
   "outputs": [
    {
     "data": {
      "text/plain": [
       "0.9394334093129274"
      ]
     },
     "execution_count": 243,
     "metadata": {},
     "output_type": "execute_result"
    }
   ],
   "source": [
    "roc_auc_score(y_test,y_pred_prob)"
   ]
  },
  {
   "cell_type": "code",
   "execution_count": 245,
   "id": "d77fdcd8",
   "metadata": {},
   "outputs": [],
   "source": [
    "cm = confusion_matrix(y_test,y_pred)"
   ]
  },
  {
   "cell_type": "code",
   "execution_count": 246,
   "id": "7e56ca1e",
   "metadata": {
    "scrolled": true
   },
   "outputs": [
    {
     "name": "stdout",
     "output_type": "stream",
     "text": [
      "[[75  8]\n",
      " [ 6 31]]\n"
     ]
    }
   ],
   "source": [
    "print(cm)"
   ]
  },
  {
   "cell_type": "code",
   "execution_count": 247,
   "id": "2cdd86f2",
   "metadata": {},
   "outputs": [
    {
     "name": "stdout",
     "output_type": "stream",
     "text": [
      "              precision    recall  f1-score   support\n",
      "\n",
      "           0       0.93      0.90      0.91        83\n",
      "           1       0.79      0.84      0.82        37\n",
      "\n",
      "    accuracy                           0.88       120\n",
      "   macro avg       0.86      0.87      0.87       120\n",
      "weighted avg       0.89      0.88      0.88       120\n",
      "\n"
     ]
    }
   ],
   "source": [
    "print(ss)"
   ]
  },
  {
   "cell_type": "code",
   "execution_count": 248,
   "id": "8d36ce56",
   "metadata": {},
   "outputs": [],
   "source": [
    "TN = cm[0,0]\n",
    "TP = cm[1,1]\n",
    "FP = cm[0,1]\n",
    "FN = cm[1,0]"
   ]
  },
  {
   "cell_type": "code",
   "execution_count": 249,
   "id": "1e2b7372",
   "metadata": {},
   "outputs": [
    {
     "data": {
      "text/plain": [
       "0.7948717948717948"
      ]
     },
     "execution_count": 249,
     "metadata": {},
     "output_type": "execute_result"
    }
   ],
   "source": [
    "precision = TP/(TP+FP)\n",
    "precision"
   ]
  },
  {
   "cell_type": "code",
   "execution_count": 250,
   "id": "9005fcbb",
   "metadata": {},
   "outputs": [
    {
     "data": {
      "text/plain": [
       "0.8378378378378378"
      ]
     },
     "execution_count": 250,
     "metadata": {},
     "output_type": "execute_result"
    }
   ],
   "source": [
    "recall = TP/(TP+FN)\n",
    "recall"
   ]
  },
  {
   "cell_type": "code",
   "execution_count": 251,
   "id": "2ecafcc0",
   "metadata": {},
   "outputs": [
    {
     "data": {
      "text/plain": [
       "0.9036144578313253"
      ]
     },
     "execution_count": 251,
     "metadata": {},
     "output_type": "execute_result"
    }
   ],
   "source": [
    "specificity = TN/(TN+FP)\n",
    "specificity"
   ]
  },
  {
   "cell_type": "code",
   "execution_count": 252,
   "id": "585bbd4e",
   "metadata": {},
   "outputs": [
    {
     "data": {
      "text/plain": [
       "0.8157894736842105"
      ]
     },
     "execution_count": 252,
     "metadata": {},
     "output_type": "execute_result"
    }
   ],
   "source": [
    "f1_score = 2*((precision*recall)/(precision+recall))\n",
    "f1_score"
   ]
  },
  {
   "cell_type": "code",
   "execution_count": 253,
   "id": "e3b9a3d8",
   "metadata": {},
   "outputs": [
    {
     "data": {
      "text/plain": [
       "0.8833333333333333"
      ]
     },
     "execution_count": 253,
     "metadata": {},
     "output_type": "execute_result"
    }
   ],
   "source": [
    "accuracy = (TP+TN)/(TN+TP+FN+FP)\n",
    "accuracy"
   ]
  },
  {
   "cell_type": "code",
   "execution_count": 254,
   "id": "2df4b3cc",
   "metadata": {},
   "outputs": [
    {
     "data": {
      "text/plain": [
       "array([0.        , 0.02702703, 0.16216216, 0.16216216, 0.2972973 ,\n",
       "       0.2972973 , 0.62162162, 0.62162162, 0.7027027 , 0.7027027 ,\n",
       "       0.75675676, 0.75675676, 0.78378378, 0.78378378, 0.83783784,\n",
       "       0.83783784, 0.83783784, 0.89189189, 0.89189189, 0.91891892,\n",
       "       0.91891892, 0.94594595, 0.94594595, 0.97297297, 0.97297297,\n",
       "       1.        , 1.        , 1.        , 1.        ])"
      ]
     },
     "execution_count": 254,
     "metadata": {},
     "output_type": "execute_result"
    }
   ],
   "source": [
    "tpr"
   ]
  },
  {
   "cell_type": "code",
   "execution_count": 255,
   "id": "c9058b5e",
   "metadata": {
    "scrolled": true
   },
   "outputs": [
    {
     "data": {
      "text/plain": [
       "array([0.        , 0.        , 0.        , 0.02409639, 0.02409639,\n",
       "       0.03614458, 0.03614458, 0.06024096, 0.06024096, 0.07228916,\n",
       "       0.07228916, 0.08433735, 0.08433735, 0.09638554, 0.09638554,\n",
       "       0.12048193, 0.13253012, 0.13253012, 0.14457831, 0.14457831,\n",
       "       0.1686747 , 0.1686747 , 0.18072289, 0.18072289, 0.3253012 ,\n",
       "       0.3253012 , 0.34939759, 0.37349398, 1.        ])"
      ]
     },
     "execution_count": 255,
     "metadata": {},
     "output_type": "execute_result"
    }
   ],
   "source": [
    "fpr"
   ]
  },
  {
   "cell_type": "code",
   "execution_count": 300,
   "id": "69e9e77d",
   "metadata": {},
   "outputs": [],
   "source": [
    "#youdens table"
   ]
  },
  {
   "cell_type": "code",
   "execution_count": 256,
   "id": "880fa61a",
   "metadata": {},
   "outputs": [
    {
     "data": {
      "text/html": [
       "<div>\n",
       "<style scoped>\n",
       "    .dataframe tbody tr th:only-of-type {\n",
       "        vertical-align: middle;\n",
       "    }\n",
       "\n",
       "    .dataframe tbody tr th {\n",
       "        vertical-align: top;\n",
       "    }\n",
       "\n",
       "    .dataframe thead th {\n",
       "        text-align: right;\n",
       "    }\n",
       "</style>\n",
       "<table border=\"1\" class=\"dataframe\">\n",
       "  <thead>\n",
       "    <tr style=\"text-align: right;\">\n",
       "      <th></th>\n",
       "      <th>FPR</th>\n",
       "      <th>TPR</th>\n",
       "      <th>Threshold</th>\n",
       "      <th>Difference</th>\n",
       "    </tr>\n",
       "  </thead>\n",
       "  <tbody>\n",
       "    <tr>\n",
       "      <th>0</th>\n",
       "      <td>0.180723</td>\n",
       "      <td>0.972973</td>\n",
       "      <td>0.321178</td>\n",
       "      <td>0.792250</td>\n",
       "    </tr>\n",
       "    <tr>\n",
       "      <th>1</th>\n",
       "      <td>0.168675</td>\n",
       "      <td>0.945946</td>\n",
       "      <td>0.328130</td>\n",
       "      <td>0.777271</td>\n",
       "    </tr>\n",
       "    <tr>\n",
       "      <th>2</th>\n",
       "      <td>0.144578</td>\n",
       "      <td>0.918919</td>\n",
       "      <td>0.350649</td>\n",
       "      <td>0.774341</td>\n",
       "    </tr>\n",
       "    <tr>\n",
       "      <th>3</th>\n",
       "      <td>0.180723</td>\n",
       "      <td>0.945946</td>\n",
       "      <td>0.322145</td>\n",
       "      <td>0.765223</td>\n",
       "    </tr>\n",
       "    <tr>\n",
       "      <th>4</th>\n",
       "      <td>0.132530</td>\n",
       "      <td>0.891892</td>\n",
       "      <td>0.416141</td>\n",
       "      <td>0.759362</td>\n",
       "    </tr>\n",
       "  </tbody>\n",
       "</table>\n",
       "</div>"
      ],
      "text/plain": [
       "        FPR       TPR  Threshold  Difference\n",
       "0  0.180723  0.972973   0.321178    0.792250\n",
       "1  0.168675  0.945946   0.328130    0.777271\n",
       "2  0.144578  0.918919   0.350649    0.774341\n",
       "3  0.180723  0.945946   0.322145    0.765223\n",
       "4  0.132530  0.891892   0.416141    0.759362"
      ]
     },
     "execution_count": 256,
     "metadata": {},
     "output_type": "execute_result"
    }
   ],
   "source": [
    "youdel_table = pd.DataFrame({'FPR':fpr,\n",
    "                             'TPR':tpr,\n",
    "                             'Threshold':thresholds})\n",
    "youdel_table['Difference'] = youdel_table.TPR - youdel_table.FPR\n",
    "\n",
    "youdel_table = youdel_table.sort_values('Difference',ascending = False).reset_index(drop=True)\n",
    "youdel_table.head()"
   ]
  },
  {
   "cell_type": "code",
   "execution_count": 258,
   "id": "c8a7521d",
   "metadata": {},
   "outputs": [],
   "source": [
    "y_pred_youden = [1 if i>0.32 else 0 for i in y_pred_prob]"
   ]
  },
  {
   "cell_type": "code",
   "execution_count": 260,
   "id": "565bb291",
   "metadata": {},
   "outputs": [
    {
     "name": "stdout",
     "output_type": "stream",
     "text": [
      "              precision    recall  f1-score   support\n",
      "\n",
      "           0       0.99      0.82      0.89        83\n",
      "           1       0.71      0.97      0.82        37\n",
      "\n",
      "    accuracy                           0.87       120\n",
      "   macro avg       0.85      0.90      0.86       120\n",
      "weighted avg       0.90      0.87      0.87       120\n",
      "\n"
     ]
    }
   ],
   "source": [
    "print(classification_report(y_test,y_pred_youden))"
   ]
  },
  {
   "cell_type": "code",
   "execution_count": 261,
   "id": "db283bbc",
   "metadata": {},
   "outputs": [
    {
     "data": {
      "text/plain": [
       "array([[68, 15],\n",
       "       [ 1, 36]], dtype=int64)"
      ]
     },
     "execution_count": 261,
     "metadata": {},
     "output_type": "execute_result"
    }
   ],
   "source": [
    "confusion_matrix(y_test,y_pred_youden)"
   ]
  },
  {
   "cell_type": "code",
   "execution_count": 262,
   "id": "00908e50",
   "metadata": {},
   "outputs": [
    {
     "name": "stdout",
     "output_type": "stream",
     "text": [
      "0.7170645446507515\n"
     ]
    }
   ],
   "source": [
    "kappa = cohen_kappa_score(y_test, y_pred_youden)\n",
    "print(kappa)"
   ]
  },
  {
   "cell_type": "code",
   "execution_count": 263,
   "id": "9a8e0a6b",
   "metadata": {},
   "outputs": [],
   "source": [
    "#RFE"
   ]
  },
  {
   "cell_type": "code",
   "execution_count": null,
   "id": "60b85833",
   "metadata": {},
   "outputs": [],
   "source": []
  },
  {
   "cell_type": "code",
   "execution_count": 277,
   "id": "31eddd61",
   "metadata": {},
   "outputs": [
    {
     "name": "stdout",
     "output_type": "stream",
     "text": [
      "['Gender' 'Age' 'EstimatedSalary']\n",
      "[False  True  True]\n"
     ]
    }
   ],
   "source": [
    "x_train_rfe = x_train.iloc[:,1:]\n",
    "x_test_rfe = x_test.iloc[:,1:]\n",
    "ll_regression = LogisticRegression()\n",
    "rfe_model = RFE(estimator = ll_regression,n_features_to_select = 2)\n",
    "rfe_model = rfe_model.fit(x_train_rfe,y_train)\n",
    "print(rfe_model.feature_names_in_)\n",
    "print(rfe_model.ranking_==1)"
   ]
  },
  {
   "cell_type": "code",
   "execution_count": 279,
   "id": "5b4444d0",
   "metadata": {},
   "outputs": [
    {
     "name": "stdout",
     "output_type": "stream",
     "text": [
      "Index(['Age', 'EstimatedSalary'], dtype='object')\n"
     ]
    }
   ],
   "source": [
    "# consider the independent variables (without the intercept term)\n",
    "# as, X_train and X_test contains the intercept term\n",
    "# use 'iloc' to select the variables wthout intercept term \n",
    "X_train_rfe = x_train.iloc[:,1:]\n",
    "X_test_rfe = x_test.iloc[:,1:]\n",
    "\n",
    "# initiate logistic regression model to use in feature selection\n",
    "logreg = LogisticRegression()\n",
    "\n",
    "# build the RFE model\n",
    "# pass the logistic regression model to 'estimator'\n",
    "# pass number of required features to 'n_features_to_select'\n",
    "# if we do not pass the number of features, RFE considers half of the features\n",
    "rfe_model = RFE(estimator = logreg, n_features_to_select = 2)\n",
    "\n",
    "# fit the RFE model on the train dataset using fit()\n",
    "rfe_model = rfe_model.fit(X_train_rfe, y_train)\n",
    "\n",
    "# create a series containing feature and its corresponding rank obtained from RFE\n",
    "# 'ranking_' returns the rank of each variable after applying RFE\n",
    "# pass the ranks as the 'data' of a series\n",
    "# 'index' assigns feature names as index of a series \n",
    "feat_index = pd.Series(data = rfe_model.ranking_, index = X_train_rfe.columns)\n",
    "\n",
    "# select the features with rank = 1\n",
    "# 'index' returns the indices of a series (i.e. features with rank=1) \n",
    "signi_feat_rfe = feat_index[feat_index==1].index\n",
    "\n",
    "# print the significant features obtained from RFE\n",
    "print(signi_feat_rfe)"
   ]
  },
  {
   "cell_type": "code",
   "execution_count": 287,
   "id": "159ebc0c",
   "metadata": {},
   "outputs": [],
   "source": [
    "x_train,x_test,y_train,y_test  = train_test_split(df1[['const','Age','EstimatedSalary']],df1['Purchased'],random_state=10,test_size=0.3)"
   ]
  },
  {
   "cell_type": "code",
   "execution_count": 305,
   "id": "58de018c",
   "metadata": {},
   "outputs": [],
   "source": [
    "def get_test_report(model):\n",
    "    test_pred = model.predict(x_test)\n",
    "    y_pred_rfe = [0 if i<0.5 else 1 for i in test_pred]\n",
    "    print(classification_report(y_test,y_pred_rfe))\n",
    "    print(confusion_matrix(y_test,y_pred_rfe))"
   ]
  },
  {
   "cell_type": "code",
   "execution_count": 306,
   "id": "bb48576d",
   "metadata": {},
   "outputs": [
    {
     "name": "stdout",
     "output_type": "stream",
     "text": [
      "Optimization terminated successfully.\n",
      "         Current function value: 0.350943\n",
      "         Iterations 8\n",
      "                           Logit Regression Results                           \n",
      "==============================================================================\n",
      "Dep. Variable:              Purchased   No. Observations:                  280\n",
      "Model:                          Logit   Df Residuals:                      277\n",
      "Method:                           MLE   Df Model:                            2\n",
      "Date:                Mon, 15 Aug 2022   Pseudo R-squ.:                  0.4710\n",
      "Time:                        14:43:59   Log-Likelihood:                -98.264\n",
      "converged:                       True   LL-Null:                       -185.74\n",
      "Covariance Type:            nonrobust   LLR p-value:                 1.022e-38\n",
      "===================================================================================\n",
      "                      coef    std err          z      P>|z|      [0.025      0.975]\n",
      "-----------------------------------------------------------------------------------\n",
      "const              -1.0190      0.199     -5.116      0.000      -1.409      -0.629\n",
      "Age                 2.5456      0.344      7.393      0.000       1.871       3.220\n",
      "EstimatedSalary     1.2739      0.226      5.643      0.000       0.831       1.716\n",
      "===================================================================================\n"
     ]
    }
   ],
   "source": [
    "model_rfe = sm.Logit(y_train,x_train).fit()\n",
    "print(model_rfe.summary())\n"
   ]
  },
  {
   "cell_type": "code",
   "execution_count": 307,
   "id": "035db47e",
   "metadata": {
    "scrolled": true
   },
   "outputs": [
    {
     "name": "stdout",
     "output_type": "stream",
     "text": [
      "              precision    recall  f1-score   support\n",
      "\n",
      "           0       0.91      0.90      0.91        83\n",
      "           1       0.79      0.81      0.80        37\n",
      "\n",
      "    accuracy                           0.88       120\n",
      "   macro avg       0.85      0.86      0.85       120\n",
      "weighted avg       0.88      0.88      0.88       120\n",
      "\n",
      "[[75  8]\n",
      " [ 7 30]]\n"
     ]
    }
   ],
   "source": [
    "get_test_report(model_rfe)"
   ]
  },
  {
   "cell_type": "code",
   "execution_count": 313,
   "id": "e6fd8da3",
   "metadata": {},
   "outputs": [],
   "source": [
    "test_pred = model_rfe.predict(x_test)\n",
    "y_pred_rfe = [0 if i<0.5 else 1 for i in test_pred]"
   ]
  },
  {
   "cell_type": "code",
   "execution_count": 314,
   "id": "e3ccd323",
   "metadata": {},
   "outputs": [
    {
     "name": "stdout",
     "output_type": "stream",
     "text": [
      "[[75  8]\n",
      " [ 7 30]]\n"
     ]
    }
   ],
   "source": [
    "print(confusion_matrix(y_test,y_pred_rfe))"
   ]
  },
  {
   "cell_type": "code",
   "execution_count": 323,
   "id": "5cf8ea11",
   "metadata": {},
   "outputs": [
    {
     "data": {
      "text/plain": [
       "0.9345490068381634"
      ]
     },
     "execution_count": 323,
     "metadata": {},
     "output_type": "execute_result"
    },
    {
     "data": {
      "image/png": "[encoded data removed]",
      "text/plain": [
       "<Figure size 432x288 with 1 Axes>"
      ]
     },
     "metadata": {
      "needs_background": "light"
     },
     "output_type": "display_data"
    }
   ],
   "source": [
    "fpr,tpr,threshold = roc_curve(y_test,test_pred)\n",
    "plt.plot(fpr,tpr)\n",
    "plt.xlim([0.0,1.0])\n",
    "plt.ylim([0.0,1.0])\n",
    "plt.plot([0,1],[0,1],'r--')\n",
    "roc_auc_score(y_test, test_pred)"
   ]
  },
  {
   "cell_type": "code",
   "execution_count": null,
   "id": "e18480ba",
   "metadata": {},
   "outputs": [],
   "source": []
  }
 ],
 "metadata": {
  "kernelspec": {
   "display_name": "Python 3 (ipykernel)",
   "language": "python",
   "name": "python3"
  },
  "language_info": {
   "codemirror_mode": {
    "name": "ipython",
    "version": 3
   },
   "file_extension": ".py",
   "mimetype": "text/x-python",
   "name": "python",
   "nbconvert_exporter": "python",
   "pygments_lexer": "ipython3",
   "version": "3.9.7"
  }
 },
 "nbformat": 4,
 "nbformat_minor": 5
}
